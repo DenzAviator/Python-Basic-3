{
 "cells": [
  {
   "cell_type": "markdown",
   "id": "b65c8567",
   "metadata": {},
   "source": [
    "Q.1. Create two int type variables, apply addition, subtraction, division and multiplications and store the results in variables. Then print the data in the following format by calling the variables:"
   ]
  },
  {
   "cell_type": "code",
   "execution_count": 11,
   "id": "1f8fde5c",
   "metadata": {},
   "outputs": [],
   "source": [
    "# Creating variables\n",
    "\n",
    "num1 = 20\n",
    "num2 = 5\n",
    "\n",
    "# Performing arithmetic operations\n",
    "\n",
    "addition = num1 + num2\n",
    "\n",
    "subtraction = num1 + num2\n",
    "\n",
    "division = num1 + num2\n",
    "\n",
    "multiplication = num1 + num2"
   ]
  },
  {
   "cell_type": "code",
   "execution_count": 12,
   "id": "11127f2e",
   "metadata": {},
   "outputs": [
    {
     "name": "stdout",
     "output_type": "stream",
     "text": [
      "The addition of 20 and 5 is: 25\n",
      "The subtraction of 20 and 5 is: 25\n",
      "The division of 20 and 5 is: 25\n",
      "The multiplication 20 and 5 is: 25\n"
     ]
    }
   ],
   "source": [
    "# Printing the data in the requested format\n",
    "\n",
    "print(\"The addition of\", num1, \"and\", num2, \"is:\", addition)\n",
    "\n",
    "print(\"The subtraction of\", num1, \"and\", num2, \"is:\", subtraction)\n",
    "\n",
    "print(\"The division of\", num1, \"and\", num2, \"is:\", division)\n",
    "\n",
    "print(\"The multiplication\", num1, \"and\", num2, \"is:\", multiplication)"
   ]
  },
  {
   "cell_type": "code",
   "execution_count": null,
   "id": "1d626211",
   "metadata": {},
   "outputs": [],
   "source": []
  },
  {
   "cell_type": "markdown",
   "id": "86b6d835",
   "metadata": {},
   "source": [
    "Q.2. What is the difference between the following operators: \n",
    "    \n",
    "    (i) ‘/’ & ‘//’ \n",
    "    \n",
    "    (ii) ‘**’ & ‘^’\n",
    "\n",
    "    \n",
    "    i. The operators '/' and '//' are both used for division in python, but they have different behaviors.\n",
    "    \n",
    "    . The '/' operator performs normal division, returning the quotient as a floating-point number. For example:"
   ]
  },
  {
   "cell_type": "code",
   "execution_count": 13,
   "id": "a3ba00b8",
   "metadata": {},
   "outputs": [
    {
     "name": "stdout",
     "output_type": "stream",
     "text": [
      "[5.0]\n"
     ]
    }
   ],
   "source": [
    " a = [10 / 2]\n",
    "    \n",
    "print(a)"
   ]
  },
  {
   "cell_type": "markdown",
   "id": "44f0efa3",
   "metadata": {},
   "source": [
    ". The '//' operator, also known as floor division or integer division, returns the largest integer that is less than or equal to the division result. It essentially rounds down the quotient to the nearest whole number. For example:"
   ]
  },
  {
   "cell_type": "code",
   "execution_count": 14,
   "id": "203b6bdd",
   "metadata": {},
   "outputs": [
    {
     "name": "stdout",
     "output_type": "stream",
     "text": [
      "5\n"
     ]
    }
   ],
   "source": [
    "a = 10 // 2\n",
    "\n",
    "print(a)"
   ]
  },
  {
   "cell_type": "markdown",
   "id": "84e578c2",
   "metadata": {},
   "source": [
    ". The '**' operator is used for exponentiation, raising a number to a power. For example:"
   ]
  },
  {
   "cell_type": "code",
   "execution_count": 15,
   "id": "a2ed410b",
   "metadata": {},
   "outputs": [
    {
     "name": "stdout",
     "output_type": "stream",
     "text": [
      "100000\n"
     ]
    }
   ],
   "source": [
    "b = 10 ** 5\n",
    "\n",
    "print(b)"
   ]
  },
  {
   "cell_type": "markdown",
   "id": "b1aab577",
   "metadata": {},
   "source": [
    ". The '^' operator on the other hand, is not built-in operator for exponentiation in python. Instead, it is the bitwise XOR operator, used for performing bitwise exclusive OR operations on binary values. It does not raise a number to a power like '**'. For example:\n",
    "    "
   ]
  },
  {
   "cell_type": "code",
   "execution_count": null,
   "id": "04c681c7",
   "metadata": {},
   "outputs": [],
   "source": []
  },
  {
   "cell_type": "markdown",
   "id": "0813e71a",
   "metadata": {},
   "source": [
    "Q.3. List the logical operators.\n",
    "\n",
    "Logical operators are used in programming  and logical expressions to combine and manipulate Boolean values. Here is a list of commonly used logical operators:\n",
    "    \n",
    "    (a). AND(&&):Returns true if both operands are true, otherwise returns false.\n",
    "        \n",
    "    (b). OR(||): Returns true if at least one of the operands is true, otherwise returns false.\n",
    "        \n",
    "    (c). NOT(!): Reverse the logical state of its operand. If the operand is true, the NOT operator returns false, and vice versa."
   ]
  },
  {
   "cell_type": "code",
   "execution_count": null,
   "id": "14f57a01",
   "metadata": {},
   "outputs": [],
   "source": []
  },
  {
   "cell_type": "markdown",
   "id": "c9166884",
   "metadata": {},
   "source": [
    "Q.4. Explain right shift operator and left shift operator with examples.\n",
    "\n",
    "The right shift operator (>>) and left shift operator (<<) are bitwise operators commonly used in programming languages to shift the binary representation of a number to the right or left, respectively. These operators are usually applied to integers or integral data types.\n",
    "\n",
    "The right shift operator(>>) shifts the bits of a number to the right by a specified number of positions. It performs a division operation by powers of 2, effectively reducing the value of the number. The syntax for the right operator is 'number >> operator'"
   ]
  },
  {
   "cell_type": "code",
   "execution_count": 16,
   "id": "c09b10c1",
   "metadata": {},
   "outputs": [
    {
     "name": "stdout",
     "output_type": "stream",
     "text": [
      "2\n"
     ]
    }
   ],
   "source": [
    "# eXAMPLE\n",
    "x = 10 # binary representation 1010\n",
    "y = x >> 2 # shifting 2 positions to the right\n",
    "print(y) # output:2"
   ]
  },
  {
   "cell_type": "markdown",
   "id": "02739eae",
   "metadata": {},
   "source": [
    "The left operator(<<) shifts the bits of a number to the left by a specified number of positions. It performs a multiplication operation by powers of 2, effectively increasing the value of the number. The syntax for the left shift operator is 'number << positions'"
   ]
  },
  {
   "cell_type": "code",
   "execution_count": 17,
   "id": "d7361bc4",
   "metadata": {},
   "outputs": [
    {
     "name": "stdout",
     "output_type": "stream",
     "text": [
      "40\n"
     ]
    }
   ],
   "source": [
    "# Example\n",
    "\n",
    "x = 10 # binary representation 0101\n",
    "y = x << 2 # shifting 2 positions to the right\n",
    "print(y) #Output:40"
   ]
  },
  {
   "cell_type": "code",
   "execution_count": null,
   "id": "1eba3b0e",
   "metadata": {},
   "outputs": [],
   "source": []
  },
  {
   "cell_type": "markdown",
   "id": "c08551b2",
   "metadata": {},
   "source": [
    "Q.5. Create a list containing int type data of length 15. Then write a code to check if 10 is present in the list or not."
   ]
  },
  {
   "cell_type": "code",
   "execution_count": 18,
   "id": "137f231b",
   "metadata": {},
   "outputs": [
    {
     "name": "stdout",
     "output_type": "stream",
     "text": [
      "10 is present in the list.\n"
     ]
    }
   ],
   "source": [
    "# Here's an example code that creates a list of length 15 with integer values and checks if the 10 is present in the list:\n",
    "\n",
    "my_list = [9, 7, 8,68, 83, 34, 56, 41, 23, 2, 10, 30, 75, 49, 70] # list of integers\n",
    "\n",
    "#check if 10 is present in the above list\n",
    "\n",
    "if 10 in my_list:\n",
    "    print(\"10 is present in the list.\")\n",
    "else:\n",
    "    print(\"10 is not present in the list.\")"
   ]
  },
  {
   "cell_type": "markdown",
   "id": "2ce91fa8",
   "metadata": {},
   "source": [
    "In this code, we create a list my_list containing 15 integer values. We then use the in operator to check if the value 10 is present in the list. If it is present, it prints \"10 is present in the list.\" Otherwise, it prints \"10 is not present in the list.\""
   ]
  },
  {
   "cell_type": "code",
   "execution_count": null,
   "id": "25a8c075",
   "metadata": {},
   "outputs": [],
   "source": []
  }
 ],
 "metadata": {
  "kernelspec": {
   "display_name": "Python 3 (ipykernel)",
   "language": "python",
   "name": "python3"
  },
  "language_info": {
   "codemirror_mode": {
    "name": "ipython",
    "version": 3
   },
   "file_extension": ".py",
   "mimetype": "text/x-python",
   "name": "python",
   "nbconvert_exporter": "python",
   "pygments_lexer": "ipython3",
   "version": "3.10.9"
  }
 },
 "nbformat": 4,
 "nbformat_minor": 5
}
